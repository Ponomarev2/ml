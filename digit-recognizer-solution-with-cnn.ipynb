{
 "cells": [
  {
   "cell_type": "code",
   "execution_count": 1,
   "id": "138f7cc1",
   "metadata": {
    "execution": {
     "iopub.execute_input": "2022-10-31T17:32:06.804015Z",
     "iopub.status.busy": "2022-10-31T17:32:06.803512Z",
     "iopub.status.idle": "2022-10-31T17:32:12.471084Z",
     "shell.execute_reply": "2022-10-31T17:32:12.470087Z"
    },
    "papermill": {
     "duration": 5.676515,
     "end_time": "2022-10-31T17:32:12.473741",
     "exception": false,
     "start_time": "2022-10-31T17:32:06.797226",
     "status": "completed"
    },
    "tags": []
   },
   "outputs": [],
   "source": [
    "import matplotlib.pyplot as plt\n",
    "import tensorflow as tf\n",
    "from tensorflow.keras import layers\n",
    "from tensorflow.keras import models\n",
    "import pandas as pd"
   ]
  },
  {
   "cell_type": "code",
   "execution_count": 2,
   "id": "2bc965c2",
   "metadata": {
    "execution": {
     "iopub.execute_input": "2022-10-31T17:32:12.483229Z",
     "iopub.status.busy": "2022-10-31T17:32:12.482034Z",
     "iopub.status.idle": "2022-10-31T17:32:17.315097Z",
     "shell.execute_reply": "2022-10-31T17:32:17.314075Z"
    },
    "papermill": {
     "duration": 4.840054,
     "end_time": "2022-10-31T17:32:17.317632",
     "exception": false,
     "start_time": "2022-10-31T17:32:12.477578",
     "status": "completed"
    },
    "tags": []
   },
   "outputs": [],
   "source": [
    "train_images = pd.read_csv(\"../input/digit-recognizer/train.csv\")\n",
    "test_images = pd.read_csv(\"../input/digit-recognizer/test.csv\")\n",
    "Y = train_images[\"label\"]\n",
    "train_images.drop([\"label\"],axis=1,inplace=True)\n",
    "train_images = train_images.values.reshape(-1,28,28,1)\n",
    "test_images = test_images.values.reshape(-1,28,28,1)"
   ]
  },
  {
   "cell_type": "code",
   "execution_count": 3,
   "id": "b2276493",
   "metadata": {
    "execution": {
     "iopub.execute_input": "2022-10-31T17:32:17.333934Z",
     "iopub.status.busy": "2022-10-31T17:32:17.333545Z",
     "iopub.status.idle": "2022-10-31T17:32:17.358690Z",
     "shell.execute_reply": "2022-10-31T17:32:17.357817Z"
    },
    "papermill": {
     "duration": 0.032582,
     "end_time": "2022-10-31T17:32:17.360857",
     "exception": false,
     "start_time": "2022-10-31T17:32:17.328275",
     "status": "completed"
    },
    "tags": []
   },
   "outputs": [
    {
     "data": {
      "text/html": [
       "<div>\n",
       "<style scoped>\n",
       "    .dataframe tbody tr th:only-of-type {\n",
       "        vertical-align: middle;\n",
       "    }\n",
       "\n",
       "    .dataframe tbody tr th {\n",
       "        vertical-align: top;\n",
       "    }\n",
       "\n",
       "    .dataframe thead th {\n",
       "        text-align: right;\n",
       "    }\n",
       "</style>\n",
       "<table border=\"1\" class=\"dataframe\">\n",
       "  <thead>\n",
       "    <tr style=\"text-align: right;\">\n",
       "      <th></th>\n",
       "      <th>Num_0</th>\n",
       "      <th>Num_1</th>\n",
       "      <th>Num_2</th>\n",
       "      <th>Num_3</th>\n",
       "      <th>Num_4</th>\n",
       "      <th>Num_5</th>\n",
       "      <th>Num_6</th>\n",
       "      <th>Num_7</th>\n",
       "      <th>Num_8</th>\n",
       "      <th>Num_9</th>\n",
       "    </tr>\n",
       "  </thead>\n",
       "  <tbody>\n",
       "    <tr>\n",
       "      <th>0</th>\n",
       "      <td>0</td>\n",
       "      <td>1</td>\n",
       "      <td>0</td>\n",
       "      <td>0</td>\n",
       "      <td>0</td>\n",
       "      <td>0</td>\n",
       "      <td>0</td>\n",
       "      <td>0</td>\n",
       "      <td>0</td>\n",
       "      <td>0</td>\n",
       "    </tr>\n",
       "    <tr>\n",
       "      <th>1</th>\n",
       "      <td>1</td>\n",
       "      <td>0</td>\n",
       "      <td>0</td>\n",
       "      <td>0</td>\n",
       "      <td>0</td>\n",
       "      <td>0</td>\n",
       "      <td>0</td>\n",
       "      <td>0</td>\n",
       "      <td>0</td>\n",
       "      <td>0</td>\n",
       "    </tr>\n",
       "    <tr>\n",
       "      <th>2</th>\n",
       "      <td>0</td>\n",
       "      <td>1</td>\n",
       "      <td>0</td>\n",
       "      <td>0</td>\n",
       "      <td>0</td>\n",
       "      <td>0</td>\n",
       "      <td>0</td>\n",
       "      <td>0</td>\n",
       "      <td>0</td>\n",
       "      <td>0</td>\n",
       "    </tr>\n",
       "    <tr>\n",
       "      <th>3</th>\n",
       "      <td>0</td>\n",
       "      <td>0</td>\n",
       "      <td>0</td>\n",
       "      <td>0</td>\n",
       "      <td>1</td>\n",
       "      <td>0</td>\n",
       "      <td>0</td>\n",
       "      <td>0</td>\n",
       "      <td>0</td>\n",
       "      <td>0</td>\n",
       "    </tr>\n",
       "    <tr>\n",
       "      <th>4</th>\n",
       "      <td>1</td>\n",
       "      <td>0</td>\n",
       "      <td>0</td>\n",
       "      <td>0</td>\n",
       "      <td>0</td>\n",
       "      <td>0</td>\n",
       "      <td>0</td>\n",
       "      <td>0</td>\n",
       "      <td>0</td>\n",
       "      <td>0</td>\n",
       "    </tr>\n",
       "    <tr>\n",
       "      <th>...</th>\n",
       "      <td>...</td>\n",
       "      <td>...</td>\n",
       "      <td>...</td>\n",
       "      <td>...</td>\n",
       "      <td>...</td>\n",
       "      <td>...</td>\n",
       "      <td>...</td>\n",
       "      <td>...</td>\n",
       "      <td>...</td>\n",
       "      <td>...</td>\n",
       "    </tr>\n",
       "    <tr>\n",
       "      <th>41995</th>\n",
       "      <td>1</td>\n",
       "      <td>0</td>\n",
       "      <td>0</td>\n",
       "      <td>0</td>\n",
       "      <td>0</td>\n",
       "      <td>0</td>\n",
       "      <td>0</td>\n",
       "      <td>0</td>\n",
       "      <td>0</td>\n",
       "      <td>0</td>\n",
       "    </tr>\n",
       "    <tr>\n",
       "      <th>41996</th>\n",
       "      <td>0</td>\n",
       "      <td>1</td>\n",
       "      <td>0</td>\n",
       "      <td>0</td>\n",
       "      <td>0</td>\n",
       "      <td>0</td>\n",
       "      <td>0</td>\n",
       "      <td>0</td>\n",
       "      <td>0</td>\n",
       "      <td>0</td>\n",
       "    </tr>\n",
       "    <tr>\n",
       "      <th>41997</th>\n",
       "      <td>0</td>\n",
       "      <td>0</td>\n",
       "      <td>0</td>\n",
       "      <td>0</td>\n",
       "      <td>0</td>\n",
       "      <td>0</td>\n",
       "      <td>0</td>\n",
       "      <td>1</td>\n",
       "      <td>0</td>\n",
       "      <td>0</td>\n",
       "    </tr>\n",
       "    <tr>\n",
       "      <th>41998</th>\n",
       "      <td>0</td>\n",
       "      <td>0</td>\n",
       "      <td>0</td>\n",
       "      <td>0</td>\n",
       "      <td>0</td>\n",
       "      <td>0</td>\n",
       "      <td>1</td>\n",
       "      <td>0</td>\n",
       "      <td>0</td>\n",
       "      <td>0</td>\n",
       "    </tr>\n",
       "    <tr>\n",
       "      <th>41999</th>\n",
       "      <td>0</td>\n",
       "      <td>0</td>\n",
       "      <td>0</td>\n",
       "      <td>0</td>\n",
       "      <td>0</td>\n",
       "      <td>0</td>\n",
       "      <td>0</td>\n",
       "      <td>0</td>\n",
       "      <td>0</td>\n",
       "      <td>1</td>\n",
       "    </tr>\n",
       "  </tbody>\n",
       "</table>\n",
       "<p>42000 rows × 10 columns</p>\n",
       "</div>"
      ],
      "text/plain": [
       "       Num_0  Num_1  Num_2  Num_3  Num_4  Num_5  Num_6  Num_7  Num_8  Num_9\n",
       "0          0      1      0      0      0      0      0      0      0      0\n",
       "1          1      0      0      0      0      0      0      0      0      0\n",
       "2          0      1      0      0      0      0      0      0      0      0\n",
       "3          0      0      0      0      1      0      0      0      0      0\n",
       "4          1      0      0      0      0      0      0      0      0      0\n",
       "...      ...    ...    ...    ...    ...    ...    ...    ...    ...    ...\n",
       "41995      1      0      0      0      0      0      0      0      0      0\n",
       "41996      0      1      0      0      0      0      0      0      0      0\n",
       "41997      0      0      0      0      0      0      0      1      0      0\n",
       "41998      0      0      0      0      0      0      1      0      0      0\n",
       "41999      0      0      0      0      0      0      0      0      0      1\n",
       "\n",
       "[42000 rows x 10 columns]"
      ]
     },
     "execution_count": 3,
     "metadata": {},
     "output_type": "execute_result"
    }
   ],
   "source": [
    "Y = pd.get_dummies(Y,prefix='Num')\n",
    "\n",
    "Y"
   ]
  },
  {
   "cell_type": "code",
   "execution_count": 4,
   "id": "0de20258",
   "metadata": {
    "execution": {
     "iopub.execute_input": "2022-10-31T17:32:17.370472Z",
     "iopub.status.busy": "2022-10-31T17:32:17.369056Z",
     "iopub.status.idle": "2022-10-31T17:32:17.586918Z",
     "shell.execute_reply": "2022-10-31T17:32:17.585969Z"
    },
    "papermill": {
     "duration": 0.22448,
     "end_time": "2022-10-31T17:32:17.589040",
     "exception": false,
     "start_time": "2022-10-31T17:32:17.364560",
     "status": "completed"
    },
    "tags": []
   },
   "outputs": [
    {
     "data": {
      "text/plain": [
       "<matplotlib.image.AxesImage at 0x7f7828cdc750>"
      ]
     },
     "execution_count": 4,
     "metadata": {},
     "output_type": "execute_result"
    },
    {
     "data": {
      "image/png": "[encoded data removed]",
      "text/plain": [
       "<Figure size 432x288 with 1 Axes>"
      ]
     },
     "metadata": {
      "needs_background": "light"
     },
     "output_type": "display_data"
    }
   ],
   "source": [
    "plt.imshow(train_images[8])\n"
   ]
  },
  {
   "cell_type": "code",
   "execution_count": 5,
   "id": "64e78929",
   "metadata": {
    "execution": {
     "iopub.execute_input": "2022-10-31T17:32:17.599424Z",
     "iopub.status.busy": "2022-10-31T17:32:17.598714Z",
     "iopub.status.idle": "2022-10-31T17:32:17.718226Z",
     "shell.execute_reply": "2022-10-31T17:32:17.717002Z"
    },
    "papermill": {
     "duration": 0.127671,
     "end_time": "2022-10-31T17:32:17.721042",
     "exception": false,
     "start_time": "2022-10-31T17:32:17.593371",
     "status": "completed"
    },
    "tags": []
   },
   "outputs": [],
   "source": [
    "train_images = train_images.reshape((42000, 28 * 28))\n",
    "train_images = train_images.astype(\"float32\") / 255\n",
    "\n",
    "test_images = test_images.reshape((28000, 28 * 28))\n",
    "test_images = test_images.astype(\"float32\") / 255"
   ]
  },
  {
   "cell_type": "code",
   "execution_count": 6,
   "id": "2e49f67e",
   "metadata": {
    "execution": {
     "iopub.execute_input": "2022-10-31T17:32:17.731708Z",
     "iopub.status.busy": "2022-10-31T17:32:17.731393Z",
     "iopub.status.idle": "2022-10-31T17:32:17.736534Z",
     "shell.execute_reply": "2022-10-31T17:32:17.735652Z"
    },
    "papermill": {
     "duration": 0.012803,
     "end_time": "2022-10-31T17:32:17.738552",
     "exception": false,
     "start_time": "2022-10-31T17:32:17.725749",
     "status": "completed"
    },
    "tags": []
   },
   "outputs": [],
   "source": [
    "# train_images, val_images = train_images[:30000], train_images[30000:]\n",
    "# Y_train, Y_val = Y[:30000], Y[30000:]"
   ]
  },
  {
   "cell_type": "code",
   "execution_count": 7,
   "id": "cb1c33e4",
   "metadata": {
    "execution": {
     "iopub.execute_input": "2022-10-31T17:32:17.747796Z",
     "iopub.status.busy": "2022-10-31T17:32:17.747533Z",
     "iopub.status.idle": "2022-10-31T17:32:17.752660Z",
     "shell.execute_reply": "2022-10-31T17:32:17.751744Z"
    },
    "papermill": {
     "duration": 0.012214,
     "end_time": "2022-10-31T17:32:17.754764",
     "exception": false,
     "start_time": "2022-10-31T17:32:17.742550",
     "status": "completed"
    },
    "tags": []
   },
   "outputs": [],
   "source": [
    "# val_images.shape"
   ]
  },
  {
   "cell_type": "code",
   "execution_count": 8,
   "id": "58088d66",
   "metadata": {
    "execution": {
     "iopub.execute_input": "2022-10-31T17:32:17.764469Z",
     "iopub.status.busy": "2022-10-31T17:32:17.763697Z",
     "iopub.status.idle": "2022-10-31T17:32:17.768492Z",
     "shell.execute_reply": "2022-10-31T17:32:17.767569Z"
    },
    "papermill": {
     "duration": 0.011638,
     "end_time": "2022-10-31T17:32:17.770499",
     "exception": false,
     "start_time": "2022-10-31T17:32:17.758861",
     "status": "completed"
    },
    "tags": []
   },
   "outputs": [],
   "source": [
    "train_images = train_images.reshape((-1, 28, 28, 1))"
   ]
  },
  {
   "cell_type": "code",
   "execution_count": 9,
   "id": "ed2fbad1",
   "metadata": {
    "execution": {
     "iopub.execute_input": "2022-10-31T17:32:17.779514Z",
     "iopub.status.busy": "2022-10-31T17:32:17.779260Z",
     "iopub.status.idle": "2022-10-31T17:32:20.971541Z",
     "shell.execute_reply": "2022-10-31T17:32:20.969840Z"
    },
    "papermill": {
     "duration": 3.200568,
     "end_time": "2022-10-31T17:32:20.975119",
     "exception": false,
     "start_time": "2022-10-31T17:32:17.774551",
     "status": "completed"
    },
    "tags": []
   },
   "outputs": [
    {
     "name": "stderr",
     "output_type": "stream",
     "text": [
      "2022-10-31 17:32:17.883115: I tensorflow/stream_executor/cuda/cuda_gpu_executor.cc:937] successful NUMA node read from SysFS had negative value (-1), but there must be at least one NUMA node, so returning NUMA node zero\n",
      "2022-10-31 17:32:18.044230: I tensorflow/stream_executor/cuda/cuda_gpu_executor.cc:937] successful NUMA node read from SysFS had negative value (-1), but there must be at least one NUMA node, so returning NUMA node zero\n",
      "2022-10-31 17:32:18.045067: I tensorflow/stream_executor/cuda/cuda_gpu_executor.cc:937] successful NUMA node read from SysFS had negative value (-1), but there must be at least one NUMA node, so returning NUMA node zero\n",
      "2022-10-31 17:32:18.046536: I tensorflow/core/platform/cpu_feature_guard.cc:142] This TensorFlow binary is optimized with oneAPI Deep Neural Network Library (oneDNN) to use the following CPU instructions in performance-critical operations:  AVX2 AVX512F FMA\n",
      "To enable them in other operations, rebuild TensorFlow with the appropriate compiler flags.\n",
      "2022-10-31 17:32:18.046880: I tensorflow/stream_executor/cuda/cuda_gpu_executor.cc:937] successful NUMA node read from SysFS had negative value (-1), but there must be at least one NUMA node, so returning NUMA node zero\n",
      "2022-10-31 17:32:18.047611: I tensorflow/stream_executor/cuda/cuda_gpu_executor.cc:937] successful NUMA node read from SysFS had negative value (-1), but there must be at least one NUMA node, so returning NUMA node zero\n",
      "2022-10-31 17:32:18.048283: I tensorflow/stream_executor/cuda/cuda_gpu_executor.cc:937] successful NUMA node read from SysFS had negative value (-1), but there must be at least one NUMA node, so returning NUMA node zero\n",
      "2022-10-31 17:32:20.208820: I tensorflow/stream_executor/cuda/cuda_gpu_executor.cc:937] successful NUMA node read from SysFS had negative value (-1), but there must be at least one NUMA node, so returning NUMA node zero\n",
      "2022-10-31 17:32:20.209708: I tensorflow/stream_executor/cuda/cuda_gpu_executor.cc:937] successful NUMA node read from SysFS had negative value (-1), but there must be at least one NUMA node, so returning NUMA node zero\n",
      "2022-10-31 17:32:20.210407: I tensorflow/stream_executor/cuda/cuda_gpu_executor.cc:937] successful NUMA node read from SysFS had negative value (-1), but there must be at least one NUMA node, so returning NUMA node zero\n",
      "2022-10-31 17:32:20.211000: I tensorflow/core/common_runtime/gpu/gpu_device.cc:1510] Created device /job:localhost/replica:0/task:0/device:GPU:0 with 15401 MB memory:  -> device: 0, name: Tesla P100-PCIE-16GB, pci bus id: 0000:00:04.0, compute capability: 6.0\n"
     ]
    },
    {
     "name": "stdout",
     "output_type": "stream",
     "text": [
      "Model: \"sequential\"\n",
      "_________________________________________________________________\n",
      "Layer (type)                 Output Shape              Param #   \n",
      "=================================================================\n",
      "conv2d (Conv2D)              (None, 27, 27, 32)        160       \n",
      "_________________________________________________________________\n",
      "conv2d_1 (Conv2D)            (None, 24, 24, 32)        16416     \n",
      "_________________________________________________________________\n",
      "batch_normalization (BatchNo (None, 24, 24, 32)        128       \n",
      "_________________________________________________________________\n",
      "max_pooling2d (MaxPooling2D) (None, 12, 12, 32)        0         \n",
      "_________________________________________________________________\n",
      "conv2d_2 (Conv2D)            (None, 11, 11, 64)        8256      \n",
      "_________________________________________________________________\n",
      "conv2d_3 (Conv2D)            (None, 8, 8, 64)          65600     \n",
      "_________________________________________________________________\n",
      "batch_normalization_1 (Batch (None, 8, 8, 64)          256       \n",
      "_________________________________________________________________\n",
      "max_pooling2d_1 (MaxPooling2 (None, 4, 4, 64)          0         \n",
      "_________________________________________________________________\n",
      "conv2d_4 (Conv2D)            (None, 2, 2, 128)         73856     \n",
      "_________________________________________________________________\n",
      "batch_normalization_2 (Batch (None, 2, 2, 128)         512       \n",
      "_________________________________________________________________\n",
      "flatten (Flatten)            (None, 512)               0         \n",
      "_________________________________________________________________\n",
      "dense (Dense)                (None, 128)               65664     \n",
      "_________________________________________________________________\n",
      "dense_1 (Dense)              (None, 128)               16512     \n",
      "_________________________________________________________________\n",
      "dense_2 (Dense)              (None, 10)                1290      \n",
      "=================================================================\n",
      "Total params: 248,650\n",
      "Trainable params: 248,202\n",
      "Non-trainable params: 448\n",
      "_________________________________________________________________\n"
     ]
    }
   ],
   "source": [
    "model = models.Sequential([\n",
    "    layers.Conv2D(32, (2, 2), activation='relu', input_shape = [28,28,1]),\n",
    "    layers.Conv2D(32, (4, 4), strides=1, activation='relu'), \n",
    "    layers.BatchNormalization(),\n",
    "    layers.MaxPooling2D(2, 2),\n",
    "\n",
    "    layers.Conv2D(64, (2, 2), strides=1, activation='relu'),\n",
    "    layers.Conv2D(64, (4, 4), strides=1, activation='relu'),\n",
    "    layers.BatchNormalization(),\n",
    "    layers.MaxPooling2D(2, 2),\n",
    "    \n",
    "    layers.Conv2D(128, (3, 3), strides=1, activation='relu'), \n",
    "    layers.BatchNormalization(),\n",
    "    \n",
    "    layers.Flatten(),\n",
    "    layers.Dense(128,activation='relu'),\n",
    "    layers.Dense(128,activation='relu'),\n",
    "    layers.Dense(10,activation='softmax')\n",
    "    ])\n",
    "model.summary()\n"
   ]
  },
  {
   "cell_type": "code",
   "execution_count": 10,
   "id": "09038d80",
   "metadata": {
    "execution": {
     "iopub.execute_input": "2022-10-31T17:32:20.989737Z",
     "iopub.status.busy": "2022-10-31T17:32:20.989373Z",
     "iopub.status.idle": "2022-10-31T17:32:21.008205Z",
     "shell.execute_reply": "2022-10-31T17:32:21.007314Z"
    },
    "papermill": {
     "duration": 0.028816,
     "end_time": "2022-10-31T17:32:21.010681",
     "exception": false,
     "start_time": "2022-10-31T17:32:20.981865",
     "status": "completed"
    },
    "tags": []
   },
   "outputs": [],
   "source": [
    "model.compile(\n",
    "        optimizer='adam',\n",
    "        loss=tf.losses.CategoricalCrossentropy(),\n",
    "        metrics=['acc']\n",
    "    )"
   ]
  },
  {
   "cell_type": "code",
   "execution_count": 11,
   "id": "de5c229b",
   "metadata": {
    "execution": {
     "iopub.execute_input": "2022-10-31T17:32:21.024989Z",
     "iopub.status.busy": "2022-10-31T17:32:21.024641Z",
     "iopub.status.idle": "2022-10-31T17:32:58.162037Z",
     "shell.execute_reply": "2022-10-31T17:32:58.160966Z"
    },
    "papermill": {
     "duration": 37.146857,
     "end_time": "2022-10-31T17:32:58.164163",
     "exception": false,
     "start_time": "2022-10-31T17:32:21.017306",
     "status": "completed"
    },
    "tags": []
   },
   "outputs": [
    {
     "name": "stderr",
     "output_type": "stream",
     "text": [
      "2022-10-31 17:32:21.422996: I tensorflow/compiler/mlir/mlir_graph_optimization_pass.cc:185] None of the MLIR Optimization Passes are enabled (registered 2)\n"
     ]
    },
    {
     "name": "stdout",
     "output_type": "stream",
     "text": [
      "Epoch 1/5\n"
     ]
    },
    {
     "name": "stderr",
     "output_type": "stream",
     "text": [
      "2022-10-31 17:32:23.065007: I tensorflow/stream_executor/cuda/cuda_dnn.cc:369] Loaded cuDNN version 8005\n"
     ]
    },
    {
     "name": "stdout",
     "output_type": "stream",
     "text": [
      "1313/1313 [==============================] - 13s 4ms/step - loss: 0.1161 - acc: 0.9640\n",
      "Epoch 2/5\n",
      "1313/1313 [==============================] - 6s 4ms/step - loss: 0.0491 - acc: 0.9848\n",
      "Epoch 3/5\n",
      "1313/1313 [==============================] - 6s 5ms/step - loss: 0.0389 - acc: 0.9881\n",
      "Epoch 4/5\n",
      "1313/1313 [==============================] - 6s 4ms/step - loss: 0.0302 - acc: 0.9905\n",
      "Epoch 5/5\n",
      "1313/1313 [==============================] - 6s 4ms/step - loss: 0.0250 - acc: 0.9928\n"
     ]
    },
    {
     "data": {
      "text/plain": [
       "<keras.callbacks.History at 0x7f782937ae50>"
      ]
     },
     "execution_count": 11,
     "metadata": {},
     "output_type": "execute_result"
    }
   ],
   "source": [
    "model.fit(train_images,Y,epochs=5)"
   ]
  },
  {
   "cell_type": "code",
   "execution_count": 12,
   "id": "49bfcc0a",
   "metadata": {
    "execution": {
     "iopub.execute_input": "2022-10-31T17:32:58.231320Z",
     "iopub.status.busy": "2022-10-31T17:32:58.230968Z",
     "iopub.status.idle": "2022-10-31T17:32:58.235099Z",
     "shell.execute_reply": "2022-10-31T17:32:58.234087Z"
    },
    "papermill": {
     "duration": 0.039728,
     "end_time": "2022-10-31T17:32:58.237135",
     "exception": false,
     "start_time": "2022-10-31T17:32:58.197407",
     "status": "completed"
    },
    "tags": []
   },
   "outputs": [],
   "source": [
    "# pred = model.predict(val_images.reshape((-1, 28, 28, 1)))\n",
    "# sum(pred.argmax(axis=1) == Y_val.to_numpy().argmax(axis=1))/12000"
   ]
  },
  {
   "cell_type": "code",
   "execution_count": 13,
   "id": "c5d28264",
   "metadata": {
    "execution": {
     "iopub.execute_input": "2022-10-31T17:32:58.303594Z",
     "iopub.status.busy": "2022-10-31T17:32:58.303009Z",
     "iopub.status.idle": "2022-10-31T17:32:59.878175Z",
     "shell.execute_reply": "2022-10-31T17:32:59.877161Z"
    },
    "papermill": {
     "duration": 1.611538,
     "end_time": "2022-10-31T17:32:59.880760",
     "exception": false,
     "start_time": "2022-10-31T17:32:58.269222",
     "status": "completed"
    },
    "tags": []
   },
   "outputs": [
    {
     "data": {
      "text/plain": [
       "(28000, 10)"
      ]
     },
     "execution_count": 13,
     "metadata": {},
     "output_type": "execute_result"
    }
   ],
   "source": [
    "tahmin = model.predict(test_images.reshape(-1,28,28,1))\n",
    "tahmin[0]\n",
    "tahmin.shape"
   ]
  },
  {
   "cell_type": "code",
   "execution_count": 14,
   "id": "220e7902",
   "metadata": {
    "execution": {
     "iopub.execute_input": "2022-10-31T17:32:59.949303Z",
     "iopub.status.busy": "2022-10-31T17:32:59.947869Z",
     "iopub.status.idle": "2022-10-31T17:33:00.026806Z",
     "shell.execute_reply": "2022-10-31T17:33:00.025556Z"
    },
    "papermill": {
     "duration": 0.115208,
     "end_time": "2022-10-31T17:33:00.029150",
     "exception": false,
     "start_time": "2022-10-31T17:32:59.913942",
     "status": "completed"
    },
    "tags": []
   },
   "outputs": [],
   "source": [
    "import numpy as np\n",
    "predict = []\n",
    "for i in range(tahmin.shape[0]):\n",
    "    predict.append(np.argmax(tahmin[i]))\n",
    "predict = pd.DataFrame(predict)\n",
    "sub = pd.read_csv(\"../input/digit-recognizer/sample_submission.csv\")\n",
    "image_id = sub[[\"ImageId\"]]"
   ]
  },
  {
   "cell_type": "code",
   "execution_count": 15,
   "id": "41141b7c",
   "metadata": {
    "execution": {
     "iopub.execute_input": "2022-10-31T17:33:00.096187Z",
     "iopub.status.busy": "2022-10-31T17:33:00.095840Z",
     "iopub.status.idle": "2022-10-31T17:33:00.126944Z",
     "shell.execute_reply": "2022-10-31T17:33:00.126061Z"
    },
    "papermill": {
     "duration": 0.066954,
     "end_time": "2022-10-31T17:33:00.128883",
     "exception": false,
     "start_time": "2022-10-31T17:33:00.061929",
     "status": "completed"
    },
    "tags": []
   },
   "outputs": [],
   "source": [
    "submission = pd.concat([image_id,predict],axis=1)\n",
    "submission.columns = [\"ImageId\",\"Label\"]\n",
    "submission.to_csv(\"Submission.csv\",index=False)"
   ]
  }
 ],
 "metadata": {
  "kernelspec": {
   "display_name": "Python 3",
   "language": "python",
   "name": "python3"
  },
  "language_info": {
   "codemirror_mode": {
    "name": "ipython",
    "version": 3
   },
   "file_extension": ".py",
   "mimetype": "text/x-python",
   "name": "python",
   "nbconvert_exporter": "python",
   "pygments_lexer": "ipython3",
   "version": "3.7.12"
  },
  "papermill": {
   "default_parameters": {},
   "duration": 64.315674,
   "end_time": "2022-10-31T17:33:03.425392",
   "environment_variables": {},
   "exception": null,
   "input_path": "__notebook__.ipynb",
   "output_path": "__notebook__.ipynb",
   "parameters": {},
   "start_time": "2022-10-31T17:31:59.109718",
   "version": "2.3.4"
  }
 },
 "nbformat": 4,
 "nbformat_minor": 5
}
