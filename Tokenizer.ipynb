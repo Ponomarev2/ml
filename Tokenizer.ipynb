{
 "cells": [
  {
   "cell_type": "code",
   "execution_count": null,
   "id": "cc0eda4b",
   "metadata": {},
   "outputs": [],
   "source": [
    "%%time\n",
    "import math\n",
    "\n",
    "def nthprime(n):\n",
    "    sum1 = 0\n",
    "    for i in range(1, 2**n + 1):\n",
    "        sum2 = 0\n",
    "        for j in range(1,i+1):\n",
    "            sum2 += int( (math.cos( ((math.factorial(j-1)+1)/j) * math.pi))**2 )\n",
    "        sum1 += int( (n/sum2)**(1/n) )\n",
    "    return 1 + sum1"
   ]
  },
  {
   "cell_type": "code",
   "execution_count": null,
   "id": "94520789",
   "metadata": {},
   "outputs": [],
   "source": [
    "def rwh_primes2(n):\n",
    "    u = 100000\n",
    "    # generate primes < u\n",
    "    strPrimes = '23'\n",
    "    correction = (u%6>1)\n",
    "    u = {0:u,1:u-1,2:u+4,3:u+3,4:u+2,5:n+1}[u%6]\n",
    "    sieve = [True] * (u/3)\n",
    "    sieve[0] = False\n",
    "    for i in xrange(int(u**0.5)/3+1):\n",
    "        if sieve[i]:\n",
    "            k=3*i+1|1\n",
    "            sieve[      ((k*k)/3)      ::2*k]=[False]*((u/6-(k*k)/6-1)/k+1)\n",
    "            sieve[(k*k+4*k-2*k*(i&1))/3::2*k]=[False]*((u/6-(k*k+4*k-2*k*(i&1))/6-1)/k+1)\n",
    "    \n",
    "    # concatinate into string\n",
    "    i = 1\n",
    "    while len(strPrimes) < 10005:\n",
    "        if sieve[i]:\n",
    "            strPrimes += str(3*i+1|1)\n",
    "        i += 1\n",
    "        \n",
    "    return strPrimes[n:n+5]\n",
    "    \n",
    "    \n",
    "    \n",
    "print(rwh_primes2(100000)[-5:])"
   ]
  },
  {
   "cell_type": "code",
   "execution_count": null,
   "id": "3eb0884b",
   "metadata": {},
   "outputs": [],
   "source": [
    "%%time\n",
    "def sol(n):\n",
    "    primes = [2,3]\n",
    "    strPrimes = '23'\n",
    "    i = 1\n",
    "    while len(strPrimes) < n+5:\n",
    "        \n",
    "        num = 6 * ((i+1)//2) + (-1)**i # 6k+-1 optimization \n",
    "        \n",
    "        stop = int(num**0.5)\n",
    "        for prime in primes:\n",
    "            if prime > stop:\n",
    "                primes.append(num)\n",
    "                strPrimes += str(num)\n",
    "                i+= 1\n",
    "                break\n",
    "            elif num % prime == 0:\n",
    "                i+= 1\n",
    "                break\n",
    "            \n",
    "    return strPrimes[n:n+5]\n",
    "\n",
    "sol(5000)  "
   ]
  },
  {
   "cell_type": "code",
   "execution_count": 62,
   "id": "5b96201f",
   "metadata": {},
   "outputs": [
    {
     "name": "stdout",
     "output_type": "stream",
     "text": [
      "CPU times: total: 15.6 ms\n",
      "Wall time: 12 ms\n"
     ]
    },
    {
     "data": {
      "text/plain": [
       "20231"
      ]
     },
     "execution_count": 62,
     "metadata": {},
     "output_type": "execute_result"
    }
   ],
   "source": [
    "%%time\n",
    "\n",
    "primes = [2,3]\n",
    "strPrimes = '23'\n",
    "i = 1\n",
    "while len(strPrimes) < 10005:\n",
    "    \n",
    "    num = 6 * ((i+1)//2) + (-1)**i # 6k+-1 optimization \n",
    "    \n",
    "    stop = int(num**0.5)\n",
    "    for prime in primes:\n",
    "        if prime > stop:\n",
    "            primes.append(num)\n",
    "            strPrimes += str(num)\n",
    "            i+= 1\n",
    "            break\n",
    "        elif num % prime == 0:\n",
    "            i+= 1\n",
    "            break\n",
    "\n",
    "primes[-1]    "
   ]
  },
  {
   "cell_type": "code",
   "execution_count": null,
   "id": "e810b784",
   "metadata": {},
   "outputs": [],
   "source": []
  },
  {
   "cell_type": "code",
   "execution_count": null,
   "id": "2cb1d038",
   "metadata": {},
   "outputs": [],
   "source": [
    "import sys\n",
    "\n",
    "# These are the usual ipython objects, including this one you are creating\n",
    "ipython_vars = ['In', 'Out', 'exit', 'quit', 'get_ipython', 'ipython_vars']\n",
    "\n",
    "# Get a sorted list of the objects and their sizes\n",
    "sorted([(x, sys.getsizeof(globals().get(x))) for x in dir() if not x.startswith('_') and x not in sys.modules and x not in ipython_vars], key=lambda x: x[1], reverse=True)"
   ]
  },
  {
   "cell_type": "code",
   "execution_count": null,
   "id": "a736aeed",
   "metadata": {},
   "outputs": [],
   "source": [
    "primes[-1]"
   ]
  },
  {
   "cell_type": "code",
   "execution_count": null,
   "id": "ab9f5af2",
   "metadata": {},
   "outputs": [],
   "source": [
    "1+1|1"
   ]
  },
  {
   "cell_type": "code",
   "execution_count": 54,
   "id": "04eec0a3",
   "metadata": {},
   "outputs": [],
   "source": [
    "def v_getPrimesLessN2(n):\n",
    "    # Sieve of Eratosthenes with 6k+-1 optimization\n",
    "    sieve = [True] * (n//3)\n",
    "    i = 1\n",
    "    i_stop = (int(n**0.5) + 1)//6\n",
    "    i_max = (n + 1)//3\n",
    "    while i <= i_stop:\n",
    "        if sieve[i]:\n",
    "            k = (i+1)//2\n",
    "            num = 6 * k + (-1)**i\n",
    "            if (num**2 - 1) % 6 == 0:\n",
    "                i_0 = (num**2 - 1)//3\n",
    "                print(num, i_0, i_max)\n",
    "                \n",
    "                sieve[i_0::num*2] = [False] * ((i_max - i_0)//(num*2) + 1)\n",
    "            \n",
    "        i += 1\n",
    "        \n",
    "    return [2,3] + [ 6 * ((i+1)//2) + (-1)**i for i in range(1,n//3) if sieve[i]]    \n",
    "        "
   ]
  },
  {
   "cell_type": "code",
   "execution_count": 56,
   "id": "f183ccdd",
   "metadata": {},
   "outputs": [
    {
     "name": "stdout",
     "output_type": "stream",
     "text": [
      "5 8 17\n"
     ]
    },
    {
     "data": {
      "text/plain": [
       "[2, 3, 5, 7, 11, 13, 17, 19, 23, 29, 31, 35, 37, 41, 43, 47]"
      ]
     },
     "execution_count": 56,
     "metadata": {},
     "output_type": "execute_result"
    }
   ],
   "source": [
    "v_getPrimesLessN2(50)"
   ]
  },
  {
   "cell_type": "code",
   "execution_count": 92,
   "id": "41620290",
   "metadata": {},
   "outputs": [],
   "source": [
    "def v_getPrimesLessN(n):\n",
    "    # Sieve of Eratosthenes with 6k+-1 optimization\n",
    "    sieve = [True] * (n + 1)\n",
    "    sieve[3**2::3] = [False] * ((n - 3**2)//3 + 1)\n",
    "    i = 1\n",
    "    num = 5\n",
    "    stop = int(n**0.5)\n",
    "    while num <= stop:\n",
    "        k = (i+1)//2\n",
    "        num = 6 * k + (-1)**i\n",
    "        if sieve[num]:\n",
    "            sieve[num * num::num] = [False] * ((n - num * num)//num + 1) \n",
    "            \n",
    "        i += 1\n",
    "        \n",
    "    return [2,3] + [i for i in range(5,n,2) if sieve[i]]    \n",
    "        "
   ]
  },
  {
   "cell_type": "code",
   "execution_count": 93,
   "id": "d26b4ed6",
   "metadata": {},
   "outputs": [
    {
     "ename": "ValueError",
     "evalue": "attempt to assign sequence of size 19999996 to extended slice of size 19999995",
     "output_type": "error",
     "traceback": [
      "\u001b[1;31m---------------------------------------------------------------------------\u001b[0m",
      "\u001b[1;31mValueError\u001b[0m                                Traceback (most recent call last)",
      "Input \u001b[1;32mIn [93]\u001b[0m, in \u001b[0;36m<cell line: 2>\u001b[1;34m()\u001b[0m\n\u001b[0;32m      1\u001b[0m n \u001b[38;5;241m=\u001b[39m \u001b[38;5;241m100000000\u001b[39m\n\u001b[1;32m----> 2\u001b[0m \u001b[43mv_getPrimesLessN\u001b[49m\u001b[43m(\u001b[49m\u001b[43mn\u001b[49m\u001b[43m)\u001b[49m  \u001b[38;5;241m==\u001b[39m getPrimesLessN(n)\n",
      "Input \u001b[1;32mIn [92]\u001b[0m, in \u001b[0;36mv_getPrimesLessN\u001b[1;34m(n)\u001b[0m\n\u001b[0;32m     10\u001b[0m     num \u001b[38;5;241m=\u001b[39m \u001b[38;5;241m6\u001b[39m \u001b[38;5;241m*\u001b[39m k \u001b[38;5;241m+\u001b[39m (\u001b[38;5;241m-\u001b[39m\u001b[38;5;241m1\u001b[39m)\u001b[38;5;241m*\u001b[39m\u001b[38;5;241m*\u001b[39mi\n\u001b[0;32m     11\u001b[0m     \u001b[38;5;28;01mif\u001b[39;00m sieve[num]:\n\u001b[1;32m---> 12\u001b[0m         sieve[num \u001b[38;5;241m*\u001b[39m num::num] \u001b[38;5;241m=\u001b[39m [\u001b[38;5;28;01mFalse\u001b[39;00m] \u001b[38;5;241m*\u001b[39m ((n \u001b[38;5;241m-\u001b[39m num \u001b[38;5;241m*\u001b[39m num)\u001b[38;5;241m/\u001b[39m\u001b[38;5;241m/\u001b[39mnum \u001b[38;5;241m+\u001b[39m \u001b[38;5;241m1\u001b[39m) \n\u001b[0;32m     14\u001b[0m     i \u001b[38;5;241m+\u001b[39m\u001b[38;5;241m=\u001b[39m \u001b[38;5;241m1\u001b[39m\n\u001b[0;32m     16\u001b[0m \u001b[38;5;28;01mreturn\u001b[39;00m [\u001b[38;5;241m2\u001b[39m,\u001b[38;5;241m3\u001b[39m] \u001b[38;5;241m+\u001b[39m [i \u001b[38;5;28;01mfor\u001b[39;00m i \u001b[38;5;129;01min\u001b[39;00m \u001b[38;5;28mrange\u001b[39m(\u001b[38;5;241m5\u001b[39m,n,\u001b[38;5;241m2\u001b[39m) \u001b[38;5;28;01mif\u001b[39;00m sieve[i]]\n",
      "\u001b[1;31mValueError\u001b[0m: attempt to assign sequence of size 19999996 to extended slice of size 19999995"
     ]
    }
   ],
   "source": [
    "n = 100000000\n",
    "v_getPrimesLessN(n)  == getPrimesLessN(n)"
   ]
  },
  {
   "cell_type": "code",
   "execution_count": 85,
   "id": "5a5d4f57",
   "metadata": {},
   "outputs": [
    {
     "name": "stdout",
     "output_type": "stream",
     "text": [
      "CPU times: total: 0 ns\n",
      "Wall time: 0 ns\n"
     ]
    },
    {
     "data": {
      "text/plain": [
       "[2, 3, 5, 7]"
      ]
     },
     "execution_count": 85,
     "metadata": {},
     "output_type": "execute_result"
    }
   ],
   "source": [
    "%%time\n",
    "\n",
    "v_getPrimesLessN(11)"
   ]
  },
  {
   "cell_type": "code",
   "execution_count": 75,
   "id": "1161827e",
   "metadata": {},
   "outputs": [
    {
     "data": {
      "text/plain": [
       "[2,\n",
       " 3,\n",
       " 5,\n",
       " 7,\n",
       " 11,\n",
       " 13,\n",
       " 17,\n",
       " 19,\n",
       " 23,\n",
       " 29,\n",
       " 31,\n",
       " 37,\n",
       " 41,\n",
       " 43,\n",
       " 47,\n",
       " 53,\n",
       " 59,\n",
       " 61,\n",
       " 67,\n",
       " 71,\n",
       " 73,\n",
       " 79,\n",
       " 83,\n",
       " 89,\n",
       " 97,\n",
       " 101,\n",
       " 103,\n",
       " 107,\n",
       " 109,\n",
       " 113,\n",
       " 127,\n",
       " 131,\n",
       " 137,\n",
       " 139,\n",
       " 149,\n",
       " 151,\n",
       " 157,\n",
       " 163,\n",
       " 167,\n",
       " 173,\n",
       " 179]"
      ]
     },
     "execution_count": 75,
     "metadata": {},
     "output_type": "execute_result"
    }
   ],
   "source": [
    "getPrimesLessN(n)"
   ]
  },
  {
   "cell_type": "code",
   "execution_count": 37,
   "id": "96c7f4d8",
   "metadata": {},
   "outputs": [
    {
     "data": {
      "text/plain": [
       "23"
      ]
     },
     "execution_count": 37,
     "metadata": {},
     "output_type": "execute_result"
    }
   ],
   "source": [
    "i = 7\n",
    "num = 6 * ((i+1)//2) + (-1)**i\n",
    "num"
   ]
  },
  {
   "cell_type": "code",
   "execution_count": 38,
   "id": "cd4fb1a3",
   "metadata": {},
   "outputs": [
    {
     "data": {
      "text/plain": [
       "7"
      ]
     },
     "execution_count": 38,
     "metadata": {},
     "output_type": "execute_result"
    }
   ],
   "source": [
    "num =5\n",
    "2 * ((num**2 + 1)//6) - 1"
   ]
  },
  {
   "cell_type": "code",
   "execution_count": 4,
   "id": "fd17e7b9",
   "metadata": {},
   "outputs": [],
   "source": [
    "def getPrimesLessN(n):\n",
    "    # Sieve of Eratosthenes\n",
    "    n, correction = n-n%6+6, 2-(n%6>1)\n",
    "    sieve = [True] * (n//3)\n",
    "    for i in range(1,int(n**0.5)//3+1):\n",
    "        if sieve[i]:\n",
    "            k=3*i+1|1\n",
    "            sieve[      k*k//3      ::2*k] = [False] * ((n//6-k*k//6-1)//k+1)\n",
    "            sieve[k*(k-2*(i&1)+4)//3::2*k] = [False] * ((n//6-k*(k-2*(i&1)+4)//6-1)//k+1)\n",
    "        \n",
    "    return [2,3] + [3*i+1|1 for i in range(1,n//3-correction) if sieve[i]]"
   ]
  },
  {
   "cell_type": "code",
   "execution_count": 91,
   "id": "805895d7",
   "metadata": {},
   "outputs": [
    {
     "name": "stdout",
     "output_type": "stream",
     "text": [
      "CPU times: total: 0 ns\n",
      "Wall time: 2.99 ms\n"
     ]
    }
   ],
   "source": [
    "%%time\n",
    "\n",
    "def f(n):\n",
    "    bound = 100\n",
    "    s = '23'\n",
    "    while len(s) < (n + 5):\n",
    "        a = v_getPrimesLessN(bound)\n",
    "        s = ''.join([str(x) for x in a])\n",
    "        bound *= 5\n",
    "\n",
    "    s[n:n+5]\n",
    "\n",
    "f(10000)"
   ]
  },
  {
   "cell_type": "code",
   "execution_count": null,
   "id": "e52c819b",
   "metadata": {},
   "outputs": [],
   "source": [
    "import sys\n",
    "\n",
    "# These are the usual ipython objects, including this one you are creating\n",
    "ipython_vars = ['In', 'Out', 'exit', 'quit', 'get_ipython', 'ipython_vars']\n",
    "\n",
    "# Get a sorted list of the objects and their sizes\n",
    "sorted([(x, sys.getsizeof(globals().get(x))) for x in dir() if not x.startswith('_') and x not in sys.modules and x not in ipython_vars], key=lambda x: x[1], reverse=True)"
   ]
  },
  {
   "cell_type": "code",
   "execution_count": null,
   "id": "80e9ed07",
   "metadata": {},
   "outputs": [],
   "source": [
    "def primes2s(x):\n",
    "    \"\"\" Input n>=6, Returns a list of primes, 2 <= p < n \"\"\"\n",
    "    bound = 1000\n",
    "    strPrimes = '23'\n",
    "    while len(strPrimes) < (x + 5):\n",
    "        strPrimes = '23'\n",
    "        bound = bound-bound%6+6\n",
    "        sieve = [True] * (bound//3)\n",
    "        i = 1\n",
    "        for i in range(1,int(bound**0.5)//3+1):\n",
    "            if sieve[i]:\n",
    "                k=3*i+1|1\n",
    "                strPrimes += str(k)\n",
    "                if len(strPrimes) > (x + 5):\n",
    "                    break\n",
    "                    \n",
    "                sieve[      k*k//3      ::2*k] = [False] * ((bound//6-k*k//6-1)//k+1)\n",
    "                sieve[k*(k-2*(i&1)+4)//3::2*k] = [False] * ((bound//6-k*(k-2*(i&1)+4)//6-1)//k+1)\n",
    "        \n",
    "            i += 1\n",
    "            \n",
    "        bound *= 10\n",
    "        \n",
    "    return strPrimes[x:x+5]"
   ]
  },
  {
   "cell_type": "code",
   "execution_count": null,
   "id": "0c813346",
   "metadata": {},
   "outputs": [],
   "source": [
    "%%time\n",
    "\n",
    "a = primes2s(3000)\n",
    "a"
   ]
  },
  {
   "cell_type": "code",
   "execution_count": null,
   "id": "055aa66c",
   "metadata": {},
   "outputs": [],
   "source": [
    "for i in range(1,None,1):\n",
    "    print(i)\n",
    "    if i == 10: break"
   ]
  },
  {
   "cell_type": "code",
   "execution_count": null,
   "id": "1a80f0a2",
   "metadata": {},
   "outputs": [],
   "source": [
    "def primes2s(x, n=100000):\n",
    "    \"\"\" Input n>=6, Returns a list of primes, 2 <= p < n \"\"\"\n",
    "    strPrimes = '23'\n",
    "    n, correction = n-n%6+6, 2-(n%6>1)\n",
    "    sieve = [True] * (n//3)\n",
    "    for i in range(1,int(n**0.5)//3+1):\n",
    "        if sieve[i]:\n",
    "            strPrimes\n",
    "            k=3*i+1|1\n",
    "            sieve[      k*k//3      ::2*k] = [False] * ((n//6-k*k//6-1)//k+1)\n",
    "            sieve[k*(k-2*(i&1)+4)//3::2*k] = [False] * ((n//6-k*(k-2*(i&1)+4)//6-1)//k+1)\n",
    "    \n",
    "    i = 1\n",
    "    while len(strPrimes) < 10005:\n",
    "        if sieve[i]:\n",
    "            strPrimes += str(3*i+1|1)\n",
    "        i += 1\n",
    "        \n",
    "    return strPrimes[x:x+5]"
   ]
  },
  {
   "cell_type": "code",
   "execution_count": null,
   "id": "cb75f027",
   "metadata": {},
   "outputs": [],
   "source": [
    "%%time\n",
    "\n",
    "a = primes2s(3)\n",
    "a"
   ]
  },
  {
   "cell_type": "code",
   "execution_count": null,
   "id": "183e1d5f",
   "metadata": {},
   "outputs": [],
   "source": [
    "import sys\n",
    "\n",
    "# These are the usual ipython objects, including this one you are creating\n",
    "ipython_vars = ['In', 'Out', 'exit', 'quit', 'get_ipython', 'ipython_vars']\n",
    "\n",
    "# Get a sorted list of the objects and their sizes\n",
    "sorted([(x, sys.getsizeof(globals().get(x))) for x in dir() if not x.startswith('_') and x not in sys.modules and x not in ipython_vars], key=lambda x: x[1], reverse=True)"
   ]
  },
  {
   "cell_type": "code",
   "execution_count": null,
   "id": "529b7361",
   "metadata": {},
   "outputs": [],
   "source": [
    "def rwh_primes2(n):\n",
    "    # https://stackoverflow.com/questions/2068372/fastest-way-to-list-all-primes-below-n-in-python/3035188#3035188\n",
    "    \"\"\" Input n>=6, Returns a list of primes, 2 <= p < n \"\"\"\n",
    "    correction = (n%6>1)\n",
    "    n = {0:n,1:n-1,2:n+4,3:n+3,4:n+2,5:n+1}[n%6]\n",
    "    sieve = [True] * (n//3)\n",
    "    sieve[0] = False\n",
    "    for i in range(int(int(n**0.5)/3)+1):\n",
    "        if sieve[i]:\n",
    "            k=3*i+1|1\n",
    "            sieve[      ((k*k)/3)      ::2*k]=[False]*((n//6-(k*k)/6-1)/k+1)\n",
    "            sieve[(k*k+4*k-2*k*(i&1))/3::2*k]=[False]*((n//6-(k*k+4*k-2*k*(i&1))/6-1)/k+1)\n",
    "    return [2,3] + [3*i+1|1 for i in range(1,n//3-correction) if sieve[i]]"
   ]
  },
  {
   "cell_type": "code",
   "execution_count": null,
   "id": "d5d37b32",
   "metadata": {},
   "outputs": [],
   "source": [
    "rwh_primes2(120)"
   ]
  },
  {
   "cell_type": "code",
   "execution_count": null,
   "id": "ef29f9b8",
   "metadata": {},
   "outputs": [],
   "source": [
    "[6*((i+1)//2) + (-1)**i for i in range(1,10)]"
   ]
  },
  {
   "cell_type": "code",
   "execution_count": null,
   "id": "1904e6b1",
   "metadata": {},
   "outputs": [],
   "source": [
    "(-1)**2"
   ]
  },
  {
   "cell_type": "code",
   "execution_count": null,
   "id": "8a7b2c74",
   "metadata": {},
   "outputs": [],
   "source": [
    "for i in range(1,10):\n",
    "    a = 6*((i+1)//2)\n",
    "    b = (-1**i)\n",
    "    print(a+b, a, b, i)"
   ]
  },
  {
   "cell_type": "code",
   "execution_count": null,
   "id": "d9de8cd6",
   "metadata": {},
   "outputs": [],
   "source": [
    "def is_prime(n: int) -> bool:\n",
    "    \"\"\"Primality test using 6k+-1 optimization.\"\"\"\n",
    "    if n <= 3:\n",
    "        return n > 1\n",
    "    if not n%2 or not n%3:\n",
    "        return False\n",
    "    i = 5\n",
    "    stop = int(n**0.5)\n",
    "    while i <= stop:\n",
    "        if not n%i or not n%(i + 2):\n",
    "            return False\n",
    "        i += 6\n",
    "    return True"
   ]
  },
  {
   "cell_type": "code",
   "execution_count": null,
   "id": "0d3fc29f",
   "metadata": {},
   "outputs": [],
   "source": [
    "nthprime(8)"
   ]
  },
  {
   "cell_type": "code",
   "execution_count": null,
   "id": "c977c48a",
   "metadata": {},
   "outputs": [],
   "source": [
    "import collections"
   ]
  },
  {
   "cell_type": "code",
   "execution_count": null,
   "id": "ef6fd8e6",
   "metadata": {},
   "outputs": [],
   "source": [
    "text = 'Within the field of literary criticism, \"text\" also refers to the original information content of a particular piece of writing; that is, the \"text\" of a work is that primal symbolic arrangement of letters as originally composed, apart from later alterations, deterioration, commentary, translations, paratext, etc. Therefore, when literary criticism is concerned with the determination of a \"text\", it is concerned with the distinguishing of the original information content from whatever has been added to or subtracted from that content as it appears in a given textual document (that is, a physical representation of text).'"
   ]
  },
  {
   "cell_type": "code",
   "execution_count": null,
   "id": "a9c4fe25",
   "metadata": {},
   "outputs": [],
   "source": [
    "def cleanText(text):\n",
    "    text = text.lower()\n",
    "    return text\n",
    "    \n",
    "text = cleanText(text)"
   ]
  },
  {
   "cell_type": "code",
   "execution_count": null,
   "id": "a13f9b5f",
   "metadata": {},
   "outputs": [],
   "source": [
    "def getCharsVocab(text):\n",
    "    chars = set(text)\n",
    "    \n",
    "    word2num = {c:n for n,c in enumerate(chars,1)}\n",
    "    num2word = dict(enumerate(chars,1))\n",
    "    return word2num, num2word, len(chars)    "
   ]
  },
  {
   "cell_type": "code",
   "execution_count": null,
   "id": "8820c4ad",
   "metadata": {},
   "outputs": [],
   "source": [
    "word2num, num2word, vocabSize  = getCharsVocab(text)"
   ]
  },
  {
   "cell_type": "code",
   "execution_count": null,
   "id": "f25b93a9",
   "metadata": {
    "scrolled": true
   },
   "outputs": [],
   "source": [
    "text = list(text)\n",
    "text = [word2num[elem] for elem in text]"
   ]
  },
  {
   "cell_type": "code",
   "execution_count": null,
   "id": "06f63deb",
   "metadata": {},
   "outputs": [],
   "source": [
    "def getMostFrequent(text):\n",
    "    counter = collections.Counter(text)\n",
    "    res = counter.most_common(1)[0]\n",
    "    return res"
   ]
  },
  {
   "cell_type": "code",
   "execution_count": null,
   "id": "d89594c9",
   "metadata": {},
   "outputs": [],
   "source": [
    "prefixToken = getMostFrequent(text)[0]"
   ]
  },
  {
   "cell_type": "code",
   "execution_count": null,
   "id": "2aa77965",
   "metadata": {},
   "outputs": [],
   "source": [
    "def getMostFreqSuffix(text, prefixToken):\n",
    "    text = [(text[i], text[i+1]) for i in range(len(text)) if text[i] == prefixToken]\n",
    "    res = getMostFrequent(text)\n",
    "    return res"
   ]
  },
  {
   "cell_type": "code",
   "execution_count": null,
   "id": "95b73622",
   "metadata": {},
   "outputs": [],
   "source": [
    "newToken, count = getMostFreqSuffix(text, prefixToken)\n",
    "newWord = num2word[newToken[0]] + num2word[newToken[1]]\n",
    "vocabSize += 1\n",
    "word2num[newWord] = vocabSize\n",
    "num2word[vocabSize] = newWord"
   ]
  },
  {
   "cell_type": "code",
   "execution_count": null,
   "id": "8fed95b9",
   "metadata": {},
   "outputs": [],
   "source": [
    "def replaceToken(text, newToken)"
   ]
  },
  {
   "cell_type": "code",
   "execution_count": null,
   "id": "fd2b80da",
   "metadata": {},
   "outputs": [],
   "source": [
    "text = [vocabSize if (text[i - 1], text[i]) == newToken else text[i-1] for i in range(1,len(text))]"
   ]
  },
  {
   "cell_type": "code",
   "execution_count": null,
   "id": "e147f8c5",
   "metadata": {},
   "outputs": [],
   "source": [
    "newToken"
   ]
  },
  {
   "cell_type": "code",
   "execution_count": null,
   "id": "ce143292",
   "metadata": {},
   "outputs": [],
   "source": [
    "text, newToken"
   ]
  },
  {
   "cell_type": "code",
   "execution_count": null,
   "id": "268bb9b3",
   "metadata": {},
   "outputs": [],
   "source": [
    "def listDiff(a,b):\n",
    "    i = 0\n",
    "    while i < len(a):\n",
    "        j = 0\n",
    "        while j < len(b):\n",
    "            if a[i] == b[j]:\n",
    "                a.pop(i)\n",
    "                b.pop(j)\n",
    "                i -= 1\n",
    "                break\n",
    "            j += 1\n",
    "        i += 1\n",
    "        \n",
    "    return a"
   ]
  },
  {
   "cell_type": "code",
   "execution_count": null,
   "id": "7c3ad231",
   "metadata": {},
   "outputs": [],
   "source": [
    "def getVocab(text):\n",
    "    chars = list(text)\n",
    "    counter1 = dict(collections.Counter(chars))\n",
    "    visited = {}\n",
    "    punctuation = [' ', ]\n",
    "    empty = []\n",
    "    f = 0\n",
    "    while f == 0:\n",
    "        f = 1\n",
    "        m = 0\n",
    "        for elem, c in counter1.items():\n",
    "            if (c > m) and (elem not in punctuation) and (elem not in empty):\n",
    "                m = c\n",
    "                prefix = elem\n",
    "                f = 0\n",
    "\n",
    "        #print(prefix)\n",
    "        #print(counter1)    \n",
    "\n",
    "        while 1:\n",
    "            try:        \n",
    "                if visited[prefix] != []:\n",
    "                    pass\n",
    "            except:\n",
    "                visited[prefix] = []\n",
    "\n",
    "            m = 0\n",
    "            b = [text[i:i+len(prefix) + 1] for i in range(len(text) - len(prefix)) if text[i:i+len(prefix)] == prefix]\n",
    "            counter2 = dict(collections.Counter(b))\n",
    "            for elem, c in counter2.items():\n",
    "                if (c > m) and (c > 3) and (elem[-1] not in punctuation) and (elem[-1] not in visited[prefix]) and (elem[-1] in counter1.keys()):\n",
    "                    m = c\n",
    "                    newprefix = elem\n",
    "                    suffix = elem[-1]\n",
    "\n",
    "\n",
    "            if m == 0:\n",
    "                #print(visited[prefix])\n",
    "                #print(counter2)\n",
    "                empty.append(prefix)\n",
    "                break\n",
    "\n",
    "            counter1[newprefix] = m\n",
    "            counter1[prefix] -= m\n",
    "            counter1[suffix] -= m\n",
    "\n",
    "            visited[prefix] += [suffix]\n",
    "\n",
    "            if counter1[prefix] <= 0 :\n",
    "                counter1.pop(prefix)\n",
    "\n",
    "            if counter1[suffix] <= 0:\n",
    "                counter1.pop(suffix)\n",
    "\n",
    "            prefix = newprefix\n",
    "\n",
    "    #print(counter1)\n",
    "    \n",
    "    # add sybs\n",
    "    for elem in list(set(text)):\n",
    "        counter1[elem] = 1\n",
    "    return counter1\n"
   ]
  },
  {
   "cell_type": "code",
   "execution_count": null,
   "id": "fee81e99",
   "metadata": {},
   "outputs": [],
   "source": [
    "vocab = getVocab(text)\n",
    "d = sorted(list(vocab.keys()), key=len)\n",
    "d.insert(0, '<pad>')\n",
    "word2num = dict(zip(d, list(range(0,len(d)+1))))\n",
    "num2word = dict(zip(list(range(0,len(d)+1)), d))"
   ]
  },
  {
   "cell_type": "code",
   "execution_count": null,
   "id": "9c1ecb2d",
   "metadata": {},
   "outputs": [],
   "source": [
    "def getFirstTokens(text, word2num, maxlen):\n",
    "    first_tokens = []\n",
    "    for i in range(maxlen, 0, -1):\n",
    "        try:\n",
    "            if word2num[text[:i]] != '':\n",
    "                first_tokens.append(i)\n",
    "        except:\n",
    "            continue\n",
    "            \n",
    "    return first_tokens\n",
    "\n",
    "def getBestNextTokenLen(text, word2num, maxlen):\n",
    "    for i in range(maxlen, 0, -1):\n",
    "        try:\n",
    "            if word2num[text[:i]] != '':\n",
    "                return i\n",
    "        except:\n",
    "            continue\n",
    "            \n",
    "    return 0\n",
    "\n",
    "def bestLenOf2Tokens(text, word2num, maxlen):\n",
    "    first_tokens = getFirstTokens(text, word2num, maxlen)\n",
    "    maxl = 0\n",
    "    maxi = 0\n",
    "    for l in first_tokens:\n",
    "        suml = l + getBestNextTokenLen(text[l:], word2num, maxlen)\n",
    "        if suml > maxl:\n",
    "            maxl = suml\n",
    "            maxi = l\n",
    "       \n",
    "    return maxi"
   ]
  },
  {
   "cell_type": "code",
   "execution_count": null,
   "id": "2515780e",
   "metadata": {},
   "outputs": [],
   "source": [
    "def tokenizeText(text, word2num):\n",
    "    tokens = []\n",
    "    maxlen = len(list(word2num.keys())[-2]) \n",
    "    j = 0\n",
    "    while j < len(text):\n",
    "        i = bestLenOf2Tokens(text[j:], word2num, maxlen)\n",
    "        #print(j,i, text[j:j+i])\n",
    "        tokens.append(word2num[text[j:j+i]])\n",
    "        j += i\n",
    "                \n",
    "    return tokens        "
   ]
  },
  {
   "cell_type": "code",
   "execution_count": null,
   "id": "bf9fd47c",
   "metadata": {},
   "outputs": [],
   "source": [
    "def detokenize(tokens, num2word):\n",
    "    text = [num2word[tokens[i]] for i in range(len(tokens))]\n",
    "    return ''.join(text)"
   ]
  },
  {
   "cell_type": "code",
   "execution_count": null,
   "id": "856d4cc9",
   "metadata": {
    "scrolled": false
   },
   "outputs": [],
   "source": [
    "tokens = tokenizeText(text, word2num)"
   ]
  },
  {
   "cell_type": "code",
   "execution_count": null,
   "id": "39c7895c",
   "metadata": {},
   "outputs": [],
   "source": [
    "detokenize(tokens, num2word)"
   ]
  },
  {
   "cell_type": "code",
   "execution_count": null,
   "id": "735ff5db",
   "metadata": {},
   "outputs": [],
   "source": [
    "text"
   ]
  },
  {
   "cell_type": "code",
   "execution_count": null,
   "id": "b0a677d7",
   "metadata": {},
   "outputs": [],
   "source": []
  }
 ],
 "metadata": {
  "kernelspec": {
   "display_name": "Python 3 (ipykernel)",
   "language": "python",
   "name": "python3"
  },
  "language_info": {
   "codemirror_mode": {
    "name": "ipython",
    "version": 3
   },
   "file_extension": ".py",
   "mimetype": "text/x-python",
   "name": "python",
   "nbconvert_exporter": "python",
   "pygments_lexer": "ipython3",
   "version": "3.10.3"
  }
 },
 "nbformat": 4,
 "nbformat_minor": 5
}
